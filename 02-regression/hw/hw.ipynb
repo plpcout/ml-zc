{
 "cells": [
  {
   "cell_type": "markdown",
   "id": "3cbe9926",
   "metadata": {},
   "source": [
    "# Homework Solutions"
   ]
  },
  {
   "cell_type": "markdown",
   "id": "0fda9f4a",
   "metadata": {},
   "source": [
    "## Data Exploration"
   ]
  },
  {
   "cell_type": "code",
   "execution_count": 4,
   "id": "28be8534",
   "metadata": {},
   "outputs": [],
   "source": [
    "import pandas as pd\n",
    "import numpy as np\n",
    "import matplotlib.pyplot as plt\n",
    "import seaborn as sns\n",
    "\n",
    "%matplotlib inline"
   ]
  },
  {
   "cell_type": "code",
   "execution_count": 5,
   "id": "36b6c7b2",
   "metadata": {},
   "outputs": [],
   "source": [
    "# !wget https://raw.githubusercontent.com/alexeygrigorev/datasets/master/car_fuel_efficiency.csv"
   ]
  },
  {
   "cell_type": "code",
   "execution_count": 6,
   "id": "779bdf88",
   "metadata": {},
   "outputs": [],
   "source": [
    "data = pd.read_csv('car_fuel_efficiency.csv')"
   ]
  },
  {
   "cell_type": "code",
   "execution_count": 7,
   "id": "6d3c1ee3",
   "metadata": {},
   "outputs": [
    {
     "data": {
      "text/plain": [
       "engine_displacement      int64\n",
       "num_cylinders          float64\n",
       "horsepower             float64\n",
       "vehicle_weight         float64\n",
       "acceleration           float64\n",
       "model_year               int64\n",
       "origin                  object\n",
       "fuel_type               object\n",
       "drivetrain              object\n",
       "num_doors              float64\n",
       "fuel_efficiency_mpg    float64\n",
       "dtype: object"
      ]
     },
     "execution_count": 7,
     "metadata": {},
     "output_type": "execute_result"
    }
   ],
   "source": [
    "data.dtypes"
   ]
  },
  {
   "cell_type": "code",
   "execution_count": 8,
   "id": "b291ec36",
   "metadata": {},
   "outputs": [],
   "source": [
    "base_columns = [\n",
    "    'engine_displacement',\n",
    "    'horsepower',\n",
    "    'vehicle_weight',\n",
    "    'model_year',\n",
    "    'fuel_efficiency_mpg'\n",
    "]"
   ]
  },
  {
   "cell_type": "code",
   "execution_count": 9,
   "id": "cade877c",
   "metadata": {},
   "outputs": [
    {
     "data": {
      "text/html": [
       "<div>\n",
       "<style scoped>\n",
       "    .dataframe tbody tr th:only-of-type {\n",
       "        vertical-align: middle;\n",
       "    }\n",
       "\n",
       "    .dataframe tbody tr th {\n",
       "        vertical-align: top;\n",
       "    }\n",
       "\n",
       "    .dataframe thead th {\n",
       "        text-align: right;\n",
       "    }\n",
       "</style>\n",
       "<table border=\"1\" class=\"dataframe\">\n",
       "  <thead>\n",
       "    <tr style=\"text-align: right;\">\n",
       "      <th></th>\n",
       "      <th>engine_displacement</th>\n",
       "      <th>horsepower</th>\n",
       "      <th>vehicle_weight</th>\n",
       "      <th>model_year</th>\n",
       "      <th>fuel_efficiency_mpg</th>\n",
       "    </tr>\n",
       "  </thead>\n",
       "  <tbody>\n",
       "    <tr>\n",
       "      <th>0</th>\n",
       "      <td>170</td>\n",
       "      <td>159.0</td>\n",
       "      <td>3413.433759</td>\n",
       "      <td>2003</td>\n",
       "      <td>13.231729</td>\n",
       "    </tr>\n",
       "    <tr>\n",
       "      <th>1</th>\n",
       "      <td>130</td>\n",
       "      <td>97.0</td>\n",
       "      <td>3149.664934</td>\n",
       "      <td>2007</td>\n",
       "      <td>13.688217</td>\n",
       "    </tr>\n",
       "    <tr>\n",
       "      <th>2</th>\n",
       "      <td>170</td>\n",
       "      <td>78.0</td>\n",
       "      <td>3079.038997</td>\n",
       "      <td>2018</td>\n",
       "      <td>14.246341</td>\n",
       "    </tr>\n",
       "    <tr>\n",
       "      <th>3</th>\n",
       "      <td>220</td>\n",
       "      <td>NaN</td>\n",
       "      <td>2542.392402</td>\n",
       "      <td>2009</td>\n",
       "      <td>16.912736</td>\n",
       "    </tr>\n",
       "    <tr>\n",
       "      <th>4</th>\n",
       "      <td>210</td>\n",
       "      <td>140.0</td>\n",
       "      <td>3460.870990</td>\n",
       "      <td>2009</td>\n",
       "      <td>12.488369</td>\n",
       "    </tr>\n",
       "    <tr>\n",
       "      <th>...</th>\n",
       "      <td>...</td>\n",
       "      <td>...</td>\n",
       "      <td>...</td>\n",
       "      <td>...</td>\n",
       "      <td>...</td>\n",
       "    </tr>\n",
       "    <tr>\n",
       "      <th>9699</th>\n",
       "      <td>140</td>\n",
       "      <td>164.0</td>\n",
       "      <td>2981.107371</td>\n",
       "      <td>2013</td>\n",
       "      <td>15.101802</td>\n",
       "    </tr>\n",
       "    <tr>\n",
       "      <th>9700</th>\n",
       "      <td>180</td>\n",
       "      <td>154.0</td>\n",
       "      <td>2439.525729</td>\n",
       "      <td>2004</td>\n",
       "      <td>17.962326</td>\n",
       "    </tr>\n",
       "    <tr>\n",
       "      <th>9701</th>\n",
       "      <td>220</td>\n",
       "      <td>138.0</td>\n",
       "      <td>2583.471318</td>\n",
       "      <td>2008</td>\n",
       "      <td>17.186587</td>\n",
       "    </tr>\n",
       "    <tr>\n",
       "      <th>9702</th>\n",
       "      <td>230</td>\n",
       "      <td>177.0</td>\n",
       "      <td>2905.527390</td>\n",
       "      <td>2011</td>\n",
       "      <td>15.331551</td>\n",
       "    </tr>\n",
       "    <tr>\n",
       "      <th>9703</th>\n",
       "      <td>270</td>\n",
       "      <td>140.0</td>\n",
       "      <td>2908.043477</td>\n",
       "      <td>2005</td>\n",
       "      <td>14.884467</td>\n",
       "    </tr>\n",
       "  </tbody>\n",
       "</table>\n",
       "<p>9704 rows × 5 columns</p>\n",
       "</div>"
      ],
      "text/plain": [
       "      engine_displacement  horsepower  vehicle_weight  model_year  \\\n",
       "0                     170       159.0     3413.433759        2003   \n",
       "1                     130        97.0     3149.664934        2007   \n",
       "2                     170        78.0     3079.038997        2018   \n",
       "3                     220         NaN     2542.392402        2009   \n",
       "4                     210       140.0     3460.870990        2009   \n",
       "...                   ...         ...             ...         ...   \n",
       "9699                  140       164.0     2981.107371        2013   \n",
       "9700                  180       154.0     2439.525729        2004   \n",
       "9701                  220       138.0     2583.471318        2008   \n",
       "9702                  230       177.0     2905.527390        2011   \n",
       "9703                  270       140.0     2908.043477        2005   \n",
       "\n",
       "      fuel_efficiency_mpg  \n",
       "0               13.231729  \n",
       "1               13.688217  \n",
       "2               14.246341  \n",
       "3               16.912736  \n",
       "4               12.488369  \n",
       "...                   ...  \n",
       "9699            15.101802  \n",
       "9700            17.962326  \n",
       "9701            17.186587  \n",
       "9702            15.331551  \n",
       "9703            14.884467  \n",
       "\n",
       "[9704 rows x 5 columns]"
      ]
     },
     "execution_count": 9,
     "metadata": {},
     "output_type": "execute_result"
    }
   ],
   "source": [
    "df = data[base_columns].copy()\n",
    "df"
   ]
  },
  {
   "cell_type": "markdown",
   "id": "fc22c344",
   "metadata": {},
   "source": [
    "### Look at the fuel_efficiency_mpg variable. Does it have a long tail?\n",
    "No, it does not have a long tail."
   ]
  },
  {
   "cell_type": "code",
   "execution_count": 10,
   "id": "c344c9b5",
   "metadata": {},
   "outputs": [
    {
     "data": {
      "text/plain": [
       "<Axes: xlabel='fuel_efficiency_mpg', ylabel='Count'>"
      ]
     },
     "execution_count": 10,
     "metadata": {},
     "output_type": "execute_result"
    },
    {
     "data": {
      "image/png": "[encoded data removed]",
      "text/plain": [
       "<Figure size 640x480 with 1 Axes>"
      ]
     },
     "metadata": {},
     "output_type": "display_data"
    }
   ],
   "source": [
    "sns.histplot(df.fuel_efficiency_mpg, bins=50)"
   ]
  },
  {
   "cell_type": "markdown",
   "id": "aa009869",
   "metadata": {},
   "source": [
    "## Question 1\n",
    "There's one column with missing values. What is it?\n",
    "\n",
    "* 'engine_displacement'\n",
    "* 'horsepower'\n",
    "* 'vehicle_weight'\n",
    "* 'model_year'"
   ]
  },
  {
   "cell_type": "code",
   "execution_count": 11,
   "id": "04dd89e6",
   "metadata": {},
   "outputs": [
    {
     "data": {
      "text/plain": [
       "engine_displacement      0\n",
       "horsepower             708\n",
       "vehicle_weight           0\n",
       "model_year               0\n",
       "fuel_efficiency_mpg      0\n",
       "dtype: int64"
      ]
     },
     "execution_count": 11,
     "metadata": {},
     "output_type": "execute_result"
    }
   ],
   "source": [
    "df.isnull().sum()"
   ]
  },
  {
   "cell_type": "markdown",
   "id": "a353ef5b",
   "metadata": {},
   "source": [
    "## Question 2\n",
    "\n",
    "What's the median (50% percentile) for variable `'horsepower'`?\n",
    "\n",
    "- 49\n",
    "- 99\n",
    "- 149\n",
    "- 199\n"
   ]
  },
  {
   "cell_type": "code",
   "execution_count": 12,
   "id": "e2d9b37b",
   "metadata": {},
   "outputs": [
    {
     "name": "stdout",
     "output_type": "stream",
     "text": [
      "149.0\n"
     ]
    }
   ],
   "source": [
    "# What's the median (50% percentile) for variable `'horsepower'`?\n",
    "median = df.horsepower.median()\n",
    "print(median)"
   ]
  },
  {
   "cell_type": "markdown",
   "id": "2bbbc550",
   "metadata": {},
   "source": [
    "### Prepare and split the dataset\n",
    "\n",
    "* Shuffle the dataset (the filtered one you created above), use seed `42`.\n",
    "* Split your data in train/val/test sets, with 60%/20%/20% distribution.\n",
    "\n",
    "Use the same code as in the lectures"
   ]
  },
  {
   "cell_type": "code",
   "execution_count": 13,
   "id": "caa5e140",
   "metadata": {},
   "outputs": [],
   "source": [
    "def prepare_splits(df, val_size=0.2, test_size=0.2, random_state=42):\n",
    "    df = df.copy()\n",
    "    \n",
    "    # Shuffle the dataset (the filtered one you created above), use seed=42.\n",
    "    idx = np.arange(len(df))\n",
    "    np.random.seed(random_state)           # Seed to keep the same random order on new runs\n",
    "    np.random.shuffle(idx)\n",
    "    \n",
    "    # Splits\n",
    "    n_total = len(df)\n",
    "    n_val = int(n_total * val_size)\n",
    "    n_test = int(n_total * test_size)\n",
    "    n_train = n_total - n_val - n_test\n",
    "    \n",
    "    # Split your data in train/val/test sets, with 60%/20%/20% distribution.\n",
    "    df_train = df.iloc[idx[:n_train]]\n",
    "    df_val = df.iloc[idx[n_train:n_train + n_val]]\n",
    "    df_test = df.iloc[idx[n_train + n_val:]]\n",
    "\n",
    "    # Reset indexes\n",
    "    df_train = df_train.reset_index(drop=True)\n",
    "    df_val = df_val.reset_index(drop=True)\n",
    "    df_test = df_test.reset_index(drop=True)\n",
    "    \n",
    "    assert len(df_train) + len(df_val) + len(df_test) == len(df), \"Something went wrong with the splits!\"\n",
    "    \n",
    "    return df_train, df_val, df_test\n",
    "    "
   ]
  },
  {
   "cell_type": "code",
   "execution_count": 14,
   "id": "68579bb3",
   "metadata": {},
   "outputs": [],
   "source": [
    "def prepare_y(df, target_column='fuel_efficiency_mpg'):\n",
    "    # Extract the dataframe target values\n",
    "    y = df[target_column].values\n",
    "    \n",
    "    # Remove target from dataframes\n",
    "    del df[target_column]\n",
    "    return y\n",
    "    "
   ]
  },
  {
   "cell_type": "code",
   "execution_count": 15,
   "id": "082e18e4",
   "metadata": {},
   "outputs": [],
   "source": [
    "df_train, df_val, df_test = prepare_splits(df)"
   ]
  },
  {
   "cell_type": "code",
   "execution_count": 16,
   "id": "15cc33f2",
   "metadata": {},
   "outputs": [],
   "source": [
    "y_train = prepare_y(df_train)\n",
    "y_val = prepare_y(df_val)\n",
    "y_test = prepare_y(df_test)"
   ]
  },
  {
   "cell_type": "markdown",
   "id": "98c5e16c",
   "metadata": {},
   "source": [
    "## Question 3\n",
    "\n",
    "* We need to deal with missing values for the column from Q1.\n",
    "* We have two options: fill it with 0 or with the mean of this variable.\n",
    "* Try both options. For each, train a linear regression model without regularization using the code from the lessons.\n",
    "* For computing the mean, use the training only!\n",
    "* Use the validation dataset to evaluate the models and compare the RMSE of each option.\n",
    "* Round the RMSE scores to 2 decimal digits using `round(score, 2)`\n",
    "* Which option gives better RMSE?\n",
    "\n",
    "Options:\n",
    "\n",
    "- With 0\n",
    "- With mean\n",
    "- Both are equally good"
   ]
  },
  {
   "cell_type": "markdown",
   "id": "734b8cbf",
   "metadata": {},
   "source": [
    "### We need to deal with missing values for the column from Q1.\n"
   ]
  },
  {
   "cell_type": "code",
   "execution_count": 17,
   "id": "79b7b311",
   "metadata": {},
   "outputs": [
    {
     "data": {
      "text/plain": [
       "engine_displacement      0\n",
       "horsepower             708\n",
       "vehicle_weight           0\n",
       "model_year               0\n",
       "fuel_efficiency_mpg      0\n",
       "dtype: int64"
      ]
     },
     "execution_count": 17,
     "metadata": {},
     "output_type": "execute_result"
    }
   ],
   "source": [
    "# Recap Q1\n",
    "df.isnull().sum()"
   ]
  },
  {
   "cell_type": "markdown",
   "id": "6188ee38",
   "metadata": {},
   "source": [
    "### We have two options: fill it with 0 or with the mean of this variable."
   ]
  },
  {
   "cell_type": "markdown",
   "id": "e3a3578b",
   "metadata": {},
   "source": [
    "### Try both options. For each, train a linear regression model without regularization using the code from the lessons."
   ]
  },
  {
   "cell_type": "code",
   "execution_count": 18,
   "id": "5396e5ed",
   "metadata": {},
   "outputs": [],
   "source": [
    "base = [\n",
    "    'engine_displacement',\n",
    "    'horsepower',\n",
    "    'vehicle_weight',\n",
    "    'model_year',\n",
    "]"
   ]
  },
  {
   "cell_type": "code",
   "execution_count": 19,
   "id": "3c3b920f",
   "metadata": {},
   "outputs": [],
   "source": [
    "def train_linear_regression(X, y):\n",
    "    # Define ones vector for bias term (aka intercept)\n",
    "    ones = np.ones(X.shape[0])\n",
    "    \n",
    "    # Column stack ones to X\n",
    "    X = np.column_stack([ones, X])\n",
    "\n",
    "    # Gram Matrix (aka X^T * X) \n",
    "    XTX = X.T.dot(X)\n",
    "    \n",
    "    # Inverse of Gram Matrix\n",
    "    XTX_inv = np.linalg.inv(XTX)\n",
    "    \n",
    "    # Weight vector\n",
    "    w_full = XTX_inv.dot(X.T).dot(y)\n",
    "    \n",
    "    # Bias term\n",
    "    w0 = w_full[0]\n",
    "    \n",
    "    # Weights\n",
    "    w = w_full[1:]\n",
    "    \n",
    "    return w0, w"
   ]
  },
  {
   "cell_type": "markdown",
   "id": "7b3c64aa",
   "metadata": {},
   "source": [
    "### Use the validation dataset to evaluate the models and compare the RMSE of each option."
   ]
  },
  {
   "cell_type": "code",
   "execution_count": 20,
   "id": "33d7e25d",
   "metadata": {},
   "outputs": [],
   "source": [
    "def prepare_X(df, fill_method):\n",
    "    df_num = df[base]\n",
    "    df_num = df_num.fillna(fill_method)\n",
    "    X = df_num.values\n",
    "    return X    \n",
    "    "
   ]
  },
  {
   "cell_type": "code",
   "execution_count": 21,
   "id": "1c2b21c4",
   "metadata": {},
   "outputs": [],
   "source": [
    "def rmse(y, y_pred):\n",
    "    se = (y - y_pred) ** 2\n",
    "    mse = se.mean()\n",
    "    return np.sqrt(mse)"
   ]
  },
  {
   "cell_type": "code",
   "execution_count": 26,
   "id": "09a88bcb",
   "metadata": {},
   "outputs": [],
   "source": [
    "del X_train"
   ]
  },
  {
   "cell_type": "code",
   "execution_count": null,
   "id": "547c4815",
   "metadata": {},
   "outputs": [],
   "source": [
    "# Using Zeroes\n",
    "X_train_zero = prepare_X(df_train, fill_method=0)\n",
    "w0_zero, w_zero = train_linear_regression(X_train_zero, y_train)"
   ]
  },
  {
   "cell_type": "code",
   "execution_count": 30,
   "id": "7df99a94",
   "metadata": {},
   "outputs": [],
   "source": [
    "# Validation Using Zeroes\n",
    "X_val_zero = prepare_X(df_val, fill_method=0)\n",
    "y_val_pred_zero = w0_zero + X_val_zero.dot(w_zero)"
   ]
  },
  {
   "cell_type": "code",
   "execution_count": null,
   "id": "79e59849",
   "metadata": {},
   "outputs": [],
   "source": [
    "# Using Mean\n",
    "X_train_mean = prepare_X(df_train, fill_method=df_train.mean())\n",
    "w0_mean, w_mean = train_linear_regression(X_train_mean, y_train)\n",
    "\n"
   ]
  },
  {
   "cell_type": "code",
   "execution_count": null,
   "id": "dc300c28",
   "metadata": {},
   "outputs": [],
   "source": [
    "# Validation Using Mean\n",
    "X_val_mean = prepare_X(df_val, fill_method=df_val.mean())\n",
    "y_val_pred_mean = w0_mean + X_val_mean.dot(w_mean)\n"
   ]
  },
  {
   "cell_type": "code",
   "execution_count": 235,
   "id": "1c5087fb",
   "metadata": {},
   "outputs": [],
   "source": [
    "### RMSE scores\n",
    "score_zero = rmse(y_val, y_val_pred_zero)\n",
    "score_mean = rmse(y_val, y_val_pred_mean)"
   ]
  },
  {
   "cell_type": "code",
   "execution_count": 236,
   "id": "ced29ee4",
   "metadata": {},
   "outputs": [
    {
     "name": "stdout",
     "output_type": "stream",
     "text": [
      "RMSE using fillna with 0:  28.83\n",
      "RMSE using fillna with mean:  0.46\n"
     ]
    }
   ],
   "source": [
    "# Round the RMSE scores to 2 decimal digits using `round(score, 2)`\n",
    "print(\"RMSE using fillna with 0: \", round(score_zero, 2))\n",
    "print(\"RMSE using fillna with mean: \", round(score_mean, 2))"
   ]
  },
  {
   "cell_type": "code",
   "execution_count": 232,
   "id": "5628538d",
   "metadata": {},
   "outputs": [
    {
     "data": {
      "text/plain": [
       "0"
      ]
     },
     "execution_count": 232,
     "metadata": {},
     "output_type": "execute_result"
    }
   ],
   "source": [
    "w0_zero "
   ]
  },
  {
   "cell_type": "markdown",
   "id": "7c53d257",
   "metadata": {},
   "source": [
    "### Which option gives better RMSE?\n",
    "- With mean"
   ]
  },
  {
   "cell_type": "code",
   "execution_count": null,
   "id": "69591ed5",
   "metadata": {},
   "outputs": [],
   "source": []
  },
  {
   "cell_type": "markdown",
   "id": "88ec6171",
   "metadata": {},
   "source": [
    "## Question 4\n",
    "\n",
    "* Now let's train a regularized linear regression.\n",
    "* For this question, fill the NAs with 0. \n",
    "* Try different values of `r` from this list: `[0, 0.01, 0.1, 1, 5, 10, 100]`.\n",
    "* Use RMSE to evaluate the model on the validation dataset.\n",
    "* Round the RMSE scores to 2 decimal digits.\n",
    "* Which `r` gives the best RMSE?\n",
    "\n",
    "If multiple options give the same best RMSE, select the smallest `r`.\n",
    "\n",
    "Options:\n",
    "\n",
    "- 0\n",
    "- 0.01\n",
    "- 1\n",
    "- 10\n",
    "- 100"
   ]
  },
  {
   "cell_type": "markdown",
   "id": "103e0b11",
   "metadata": {},
   "source": [
    "### Now let's train a regularized linear regression."
   ]
  },
  {
   "cell_type": "code",
   "execution_count": 191,
   "id": "9b224ad5",
   "metadata": {},
   "outputs": [],
   "source": [
    "def train_linear_regression_reg(X, y, r=0.001):\n",
    "    # Define ones vector for bias term (aka intercept)\n",
    "    ones = np.ones(X.shape[0])\n",
    "    \n",
    "    # Column stack ones to X\n",
    "    X = np.column_stack([ones, X])\n",
    "\n",
    "    # Gram Matrix (aka X^T * X) \n",
    "    XTX = X.T.dot(X)\n",
    "    \n",
    "    # Regularization term\n",
    "    XTX = XTX + r * np.eye(XTX.shape[0])\n",
    "    \n",
    "    # Inverse of Gram Matrix\n",
    "    XTX_inv = np.linalg.inv(XTX)\n",
    "    \n",
    "    # Weight vector\n",
    "    w_full = XTX_inv.dot(X.T).dot(y)\n",
    "    \n",
    "    # Bias term\n",
    "    w0 = w_full[0]\n",
    "    \n",
    "    # Weights\n",
    "    w = w_full[1:]\n",
    "    \n",
    "    return w0, w"
   ]
  },
  {
   "cell_type": "markdown",
   "id": "595f30b0",
   "metadata": {},
   "source": [
    "### For this question, fill the NAs with 0. \n"
   ]
  },
  {
   "cell_type": "code",
   "execution_count": 196,
   "id": "6f7ca979",
   "metadata": {},
   "outputs": [],
   "source": [
    "X_train = prepare_X(df_train, fill_method=0)\n",
    "X_val = prepare_X(df_val, fill_method=0)"
   ]
  },
  {
   "cell_type": "markdown",
   "id": "bca69a78",
   "metadata": {},
   "source": [
    "### Try different values of `r` from this list: `[0, 0.01, 0.1, 1, 5, 10, 100]`."
   ]
  },
  {
   "cell_type": "code",
   "execution_count": 214,
   "id": "083143c8",
   "metadata": {},
   "outputs": [
    {
     "name": "stdout",
     "output_type": "stream",
     "text": [
      "r:0 \t-->\t RMSE: 0.52\n",
      "r:0.01 \t-->\t RMSE: 0.52\n",
      "r:0.1 \t-->\t RMSE: 0.52\n",
      "r:1 \t-->\t RMSE: 0.52\n",
      "r:5 \t-->\t RMSE: 0.52\n",
      "r:10 \t-->\t RMSE: 0.52\n",
      "r:100 \t-->\t RMSE: 0.52\n"
     ]
    }
   ],
   "source": [
    "for r in [0, 0.01, 0.1, 1, 5, 10, 100]:\n",
    "    w0, w = train_linear_regression_reg(X_train, y_train, r=r)\n",
    "    y_pred = w0 + X_val.dot(w)\n",
    "    rmse_score = rmse(y_val, y_pred)\n",
    "    # Round the RMSE scores to 2 decimal digits.\n",
    "    print(f'r:{r} \\t-->\\t RMSE:', round(rmse_score, 2))\n"
   ]
  },
  {
   "cell_type": "code",
   "execution_count": null,
   "id": "db2691dc",
   "metadata": {},
   "outputs": [],
   "source": []
  },
  {
   "cell_type": "markdown",
   "id": "567cc817",
   "metadata": {},
   "source": [
    "## Question 5 \n",
    "\n",
    "* We used seed 42 for splitting the data. Let's find out how selecting the seed influences our score.\n",
    "* Try different seed values: `[0, 1, 2, 3, 4, 5, 6, 7, 8, 9]`.\n",
    "* For each seed, do the train/validation/test split with 60%/20%/20% distribution.\n",
    "* Fill the missing values with 0 and train a model without regularization.\n",
    "* For each seed, evaluate the model on the validation dataset and collect the RMSE scores. \n",
    "* What's the standard deviation of all the scores? To compute the standard deviation, use `np.std`.\n",
    "* Round the result to 3 decimal digits (`round(std, 3)`)\n",
    "\n",
    "What's the value of std?\n",
    "\n",
    "- 0.001\n",
    "- 0.006\n",
    "- 0.060\n",
    "- 0.600\n",
    "\n",
    "> Note: Standard deviation shows how different the values are.\n",
    "> If it's low, then all values are approximately the same.\n",
    "> If it's high, the values are different. \n",
    "> If standard deviation of scores is low, then our model is *stable*."
   ]
  },
  {
   "cell_type": "markdown",
   "id": "079c2772",
   "metadata": {},
   "source": [
    "### Try different seed values: `[0, 1, 2, 3, 4, 5, 6, 7, 8, 9]`.\n"
   ]
  },
  {
   "cell_type": "code",
   "execution_count": 217,
   "id": "5b2df344",
   "metadata": {},
   "outputs": [],
   "source": [
    "seeds = [0, 1, 2, 3, 4, 5, 6, 7, 8, 9]"
   ]
  },
  {
   "cell_type": "markdown",
   "id": "3cdab81b",
   "metadata": {},
   "source": [
    "### For each seed, do the train/validation/test split with 60%/20%/20% distribution."
   ]
  },
  {
   "cell_type": "code",
   "execution_count": null,
   "id": "adbccf86",
   "metadata": {},
   "outputs": [],
   "source": [
    "def seed_test(seeds):\n",
    "    for seed in seeds:\n",
    "        df_train, df_val, df_test = prepare_splits(df, val_size=0.2, test_size=0.2, random_state=seed)\n",
    "        y_train = prepare_y(df_train)\n",
    "        y_val = prepare_y(df_val)\n",
    "        y_test = prepare_y(df_test)\n",
    "        \n",
    "        # Fill the missing values with 0 and train a model without regularization.\n",
    "        X_train = prepare_X(df_train, fill_method=0)\n",
    "        w0, w = train_linear_regression()\n",
    "        \n",
    "        "
   ]
  },
  {
   "cell_type": "code",
   "execution_count": 221,
   "id": "500c162c",
   "metadata": {},
   "outputs": [],
   "source": [
    "seed_test(seeds)"
   ]
  },
  {
   "cell_type": "code",
   "execution_count": null,
   "id": "637c1275",
   "metadata": {},
   "outputs": [],
   "source": []
  },
  {
   "cell_type": "code",
   "execution_count": null,
   "id": "b8fafdfd",
   "metadata": {},
   "outputs": [],
   "source": []
  }
 ],
 "metadata": {
  "kernelspec": {
   "display_name": "Python 3 (ipykernel)",
   "language": "python",
   "name": "python3"
  },
  "language_info": {
   "codemirror_mode": {
    "name": "ipython",
    "version": 3
   },
   "file_extension": ".py",
   "mimetype": "text/x-python",
   "name": "python",
   "nbconvert_exporter": "python",
   "pygments_lexer": "ipython3",
   "version": "3.12.11"
  }
 },
 "nbformat": 4,
 "nbformat_minor": 5
}
